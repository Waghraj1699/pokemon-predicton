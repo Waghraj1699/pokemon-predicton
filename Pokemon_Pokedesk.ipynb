{
  "nbformat": 4,
  "nbformat_minor": 0,
  "metadata": {
    "colab": {
      "provenance": [],
      "gpuType": "T4"
    },
    "kernelspec": {
      "name": "python3",
      "display_name": "Python 3"
    },
    "language_info": {
      "name": "python"
    },
    "accelerator": "GPU"
  },
  "cells": [
    {
      "cell_type": "code",
      "execution_count": 1,
      "metadata": {
        "colab": {
          "base_uri": "https://localhost:8080/"
        },
        "id": "c78X1fkRfZkv",
        "outputId": "449f65ec-abe1-4ac5-976c-df2ad04cc789"
      },
      "outputs": [
        {
          "output_type": "stream",
          "name": "stdout",
          "text": [
            "Requirement already satisfied: tensorflow in /usr/local/lib/python3.10/dist-packages (2.15.0)\n",
            "Requirement already satisfied: absl-py>=1.0.0 in /usr/local/lib/python3.10/dist-packages (from tensorflow) (1.4.0)\n",
            "Requirement already satisfied: astunparse>=1.6.0 in /usr/local/lib/python3.10/dist-packages (from tensorflow) (1.6.3)\n",
            "Requirement already satisfied: flatbuffers>=23.5.26 in /usr/local/lib/python3.10/dist-packages (from tensorflow) (23.5.26)\n",
            "Requirement already satisfied: gast!=0.5.0,!=0.5.1,!=0.5.2,>=0.2.1 in /usr/local/lib/python3.10/dist-packages (from tensorflow) (0.5.4)\n",
            "Requirement already satisfied: google-pasta>=0.1.1 in /usr/local/lib/python3.10/dist-packages (from tensorflow) (0.2.0)\n",
            "Requirement already satisfied: h5py>=2.9.0 in /usr/local/lib/python3.10/dist-packages (from tensorflow) (3.9.0)\n",
            "Requirement already satisfied: libclang>=13.0.0 in /usr/local/lib/python3.10/dist-packages (from tensorflow) (16.0.6)\n",
            "Requirement already satisfied: ml-dtypes~=0.2.0 in /usr/local/lib/python3.10/dist-packages (from tensorflow) (0.2.0)\n",
            "Requirement already satisfied: numpy<2.0.0,>=1.23.5 in /usr/local/lib/python3.10/dist-packages (from tensorflow) (1.23.5)\n",
            "Requirement already satisfied: opt-einsum>=2.3.2 in /usr/local/lib/python3.10/dist-packages (from tensorflow) (3.3.0)\n",
            "Requirement already satisfied: packaging in /usr/local/lib/python3.10/dist-packages (from tensorflow) (23.2)\n",
            "Requirement already satisfied: protobuf!=4.21.0,!=4.21.1,!=4.21.2,!=4.21.3,!=4.21.4,!=4.21.5,<5.0.0dev,>=3.20.3 in /usr/local/lib/python3.10/dist-packages (from tensorflow) (3.20.3)\n",
            "Requirement already satisfied: setuptools in /usr/local/lib/python3.10/dist-packages (from tensorflow) (67.7.2)\n",
            "Requirement already satisfied: six>=1.12.0 in /usr/local/lib/python3.10/dist-packages (from tensorflow) (1.16.0)\n",
            "Requirement already satisfied: termcolor>=1.1.0 in /usr/local/lib/python3.10/dist-packages (from tensorflow) (2.4.0)\n",
            "Requirement already satisfied: typing-extensions>=3.6.6 in /usr/local/lib/python3.10/dist-packages (from tensorflow) (4.5.0)\n",
            "Requirement already satisfied: wrapt<1.15,>=1.11.0 in /usr/local/lib/python3.10/dist-packages (from tensorflow) (1.14.1)\n",
            "Requirement already satisfied: tensorflow-io-gcs-filesystem>=0.23.1 in /usr/local/lib/python3.10/dist-packages (from tensorflow) (0.34.0)\n",
            "Requirement already satisfied: grpcio<2.0,>=1.24.3 in /usr/local/lib/python3.10/dist-packages (from tensorflow) (1.60.0)\n",
            "Requirement already satisfied: tensorboard<2.16,>=2.15 in /usr/local/lib/python3.10/dist-packages (from tensorflow) (2.15.1)\n",
            "Requirement already satisfied: tensorflow-estimator<2.16,>=2.15.0 in /usr/local/lib/python3.10/dist-packages (from tensorflow) (2.15.0)\n",
            "Requirement already satisfied: keras<2.16,>=2.15.0 in /usr/local/lib/python3.10/dist-packages (from tensorflow) (2.15.0)\n",
            "Requirement already satisfied: wheel<1.0,>=0.23.0 in /usr/local/lib/python3.10/dist-packages (from astunparse>=1.6.0->tensorflow) (0.42.0)\n",
            "Requirement already satisfied: google-auth<3,>=1.6.3 in /usr/local/lib/python3.10/dist-packages (from tensorboard<2.16,>=2.15->tensorflow) (2.17.3)\n",
            "Requirement already satisfied: google-auth-oauthlib<2,>=0.5 in /usr/local/lib/python3.10/dist-packages (from tensorboard<2.16,>=2.15->tensorflow) (1.2.0)\n",
            "Requirement already satisfied: markdown>=2.6.8 in /usr/local/lib/python3.10/dist-packages (from tensorboard<2.16,>=2.15->tensorflow) (3.5.1)\n",
            "Requirement already satisfied: requests<3,>=2.21.0 in /usr/local/lib/python3.10/dist-packages (from tensorboard<2.16,>=2.15->tensorflow) (2.31.0)\n",
            "Requirement already satisfied: tensorboard-data-server<0.8.0,>=0.7.0 in /usr/local/lib/python3.10/dist-packages (from tensorboard<2.16,>=2.15->tensorflow) (0.7.2)\n",
            "Requirement already satisfied: werkzeug>=1.0.1 in /usr/local/lib/python3.10/dist-packages (from tensorboard<2.16,>=2.15->tensorflow) (3.0.1)\n",
            "Requirement already satisfied: cachetools<6.0,>=2.0.0 in /usr/local/lib/python3.10/dist-packages (from google-auth<3,>=1.6.3->tensorboard<2.16,>=2.15->tensorflow) (5.3.2)\n",
            "Requirement already satisfied: pyasn1-modules>=0.2.1 in /usr/local/lib/python3.10/dist-packages (from google-auth<3,>=1.6.3->tensorboard<2.16,>=2.15->tensorflow) (0.3.0)\n",
            "Requirement already satisfied: rsa<5,>=3.1.4 in /usr/local/lib/python3.10/dist-packages (from google-auth<3,>=1.6.3->tensorboard<2.16,>=2.15->tensorflow) (4.9)\n",
            "Requirement already satisfied: requests-oauthlib>=0.7.0 in /usr/local/lib/python3.10/dist-packages (from google-auth-oauthlib<2,>=0.5->tensorboard<2.16,>=2.15->tensorflow) (1.3.1)\n",
            "Requirement already satisfied: charset-normalizer<4,>=2 in /usr/local/lib/python3.10/dist-packages (from requests<3,>=2.21.0->tensorboard<2.16,>=2.15->tensorflow) (3.3.2)\n",
            "Requirement already satisfied: idna<4,>=2.5 in /usr/local/lib/python3.10/dist-packages (from requests<3,>=2.21.0->tensorboard<2.16,>=2.15->tensorflow) (3.6)\n",
            "Requirement already satisfied: urllib3<3,>=1.21.1 in /usr/local/lib/python3.10/dist-packages (from requests<3,>=2.21.0->tensorboard<2.16,>=2.15->tensorflow) (2.0.7)\n",
            "Requirement already satisfied: certifi>=2017.4.17 in /usr/local/lib/python3.10/dist-packages (from requests<3,>=2.21.0->tensorboard<2.16,>=2.15->tensorflow) (2023.11.17)\n",
            "Requirement already satisfied: MarkupSafe>=2.1.1 in /usr/local/lib/python3.10/dist-packages (from werkzeug>=1.0.1->tensorboard<2.16,>=2.15->tensorflow) (2.1.3)\n",
            "Requirement already satisfied: pyasn1<0.6.0,>=0.4.6 in /usr/local/lib/python3.10/dist-packages (from pyasn1-modules>=0.2.1->google-auth<3,>=1.6.3->tensorboard<2.16,>=2.15->tensorflow) (0.5.1)\n",
            "Requirement already satisfied: oauthlib>=3.0.0 in /usr/local/lib/python3.10/dist-packages (from requests-oauthlib>=0.7.0->google-auth-oauthlib<2,>=0.5->tensorboard<2.16,>=2.15->tensorflow) (3.2.2)\n"
          ]
        }
      ],
      "source": [
        "pip install tensorflow"
      ]
    },
    {
      "cell_type": "code",
      "source": [
        "pip install keras"
      ],
      "metadata": {
        "colab": {
          "base_uri": "https://localhost:8080/"
        },
        "id": "7EEAaIxKfzcy",
        "outputId": "e810acce-c57e-4be9-9ef1-03eacf63fdad"
      },
      "execution_count": 2,
      "outputs": [
        {
          "output_type": "stream",
          "name": "stdout",
          "text": [
            "Requirement already satisfied: keras in /usr/local/lib/python3.10/dist-packages (2.15.0)\n"
          ]
        }
      ]
    },
    {
      "cell_type": "code",
      "source": [
        "import tensorflow as tf\n",
        "from keras.preprocessing.image import ImageDataGenerator"
      ],
      "metadata": {
        "id": "gwUHjfxygCez"
      },
      "execution_count": 3,
      "outputs": []
    },
    {
      "cell_type": "markdown",
      "source": [
        "# Data Preprocessing"
      ],
      "metadata": {
        "id": "AvojohTBgORP"
      }
    },
    {
      "cell_type": "code",
      "source": [
        "training_datagen = ImageDataGenerator( rescale = 1./255,\n",
        "                                       shear_range = 0.2,\n",
        "                                       zoom_range = 0.2,\n",
        "                                       horizontal_flip = True)\n",
        "\n",
        "training_set = training_datagen.flow_from_directory('/content/drive/MyDrive/projects/datasets/pokemon/pika_pika/training_set',\n",
        "                                                    target_size = (64,64),\n",
        "                                                    batch_size = 32,\n",
        "                                                    class_mode = 'binary')"
      ],
      "metadata": {
        "colab": {
          "base_uri": "https://localhost:8080/"
        },
        "id": "quw7baRugMkJ",
        "outputId": "7cca034c-5c43-4121-846c-000a0cc3e13b"
      },
      "execution_count": 4,
      "outputs": [
        {
          "output_type": "stream",
          "name": "stdout",
          "text": [
            "Found 50 images belonging to 2 classes.\n"
          ]
        }
      ]
    },
    {
      "cell_type": "code",
      "source": [
        "test_datagen = ImageDataGenerator( rescale = 1./255,\n",
        "                                       shear_range = 0.2,\n",
        "                                       zoom_range = 0.2,\n",
        "                                       horizontal_flip = True)\n",
        "\n",
        "test_set = test_datagen.flow_from_directory('/content/drive/MyDrive/projects/datasets/pokemon/pika_pika/test_set',\n",
        "                                                    target_size = (64,64),\n",
        "                                                    batch_size = 32,\n",
        "                                                    class_mode = 'binary')"
      ],
      "metadata": {
        "colab": {
          "base_uri": "https://localhost:8080/"
        },
        "id": "cTBX7XYjhXfD",
        "outputId": "845281a0-9bc1-4d3b-bb77-bf98cf291ea9"
      },
      "execution_count": 5,
      "outputs": [
        {
          "output_type": "stream",
          "name": "stdout",
          "text": [
            "Found 10 images belonging to 2 classes.\n"
          ]
        }
      ]
    },
    {
      "cell_type": "markdown",
      "source": [
        "# Building the CNN"
      ],
      "metadata": {
        "id": "Lj8VNkthhkc_"
      }
    },
    {
      "cell_type": "code",
      "source": [
        "# Initialising the CNN\n",
        "\n",
        "cnn = tf.keras.models.Sequential()"
      ],
      "metadata": {
        "id": "52xJuRcihn0a"
      },
      "execution_count": 7,
      "outputs": []
    },
    {
      "cell_type": "code",
      "source": [
        "# Step 1 - Convolution\n",
        "\n",
        "cnn.add(tf.keras.layers.Conv2D(filters = 32 , kernel_size = 3 ,activation = 'relu',input_shape = [64,64,3]))"
      ],
      "metadata": {
        "id": "q0-v56i5h6I7"
      },
      "execution_count": 8,
      "outputs": []
    },
    {
      "cell_type": "code",
      "source": [
        "# Step 2 - Pooling\n",
        "\n",
        "cnn.add(tf.keras.layers.MaxPool2D(pool_size = 2,strides = 2))"
      ],
      "metadata": {
        "id": "bamU96BiiW_K"
      },
      "execution_count": 9,
      "outputs": []
    },
    {
      "cell_type": "code",
      "source": [
        "# Adding second Convolutional Layer\n",
        "\n",
        "cnn.add(tf.keras.layers.Conv2D(filters = 32 ,kernel_size = 3 , activation = 'relu'))\n",
        "cnn.add(tf.keras.layers.MaxPool2D(pool_size = 2 ,strides = 2))"
      ],
      "metadata": {
        "id": "2Zzu29zbirBj"
      },
      "execution_count": 10,
      "outputs": []
    },
    {
      "cell_type": "code",
      "source": [
        "# step 3 - Flattening\n",
        "\n",
        "cnn.add(tf.keras.layers.Flatten())"
      ],
      "metadata": {
        "id": "7xNQ4g4BjImX"
      },
      "execution_count": 11,
      "outputs": []
    },
    {
      "cell_type": "code",
      "source": [
        "# step 4 - Full Connection\n",
        "\n",
        "cnn.add(tf.keras.layers.Dense(units= 128 ,activation = 'relu'))"
      ],
      "metadata": {
        "id": "17CCEDxtjULN"
      },
      "execution_count": 13,
      "outputs": []
    },
    {
      "cell_type": "code",
      "source": [
        "# step 5 - Output Layer\n",
        "\n",
        "cnn.add(tf.keras.layers.Dense(units = 1 ,activation = 'sigmoid'))"
      ],
      "metadata": {
        "id": "E6Z2mIA8jUIR"
      },
      "execution_count": 15,
      "outputs": []
    },
    {
      "cell_type": "markdown",
      "source": [
        "# Training the CNN"
      ],
      "metadata": {
        "id": "lx7ICI9Mj8yL"
      }
    },
    {
      "cell_type": "code",
      "source": [
        "# Compiling the CNN\n",
        "\n",
        "cnn.compile(optimizer = 'adam',loss = 'binary_crossentropy',metrics = ['accuracy'])"
      ],
      "metadata": {
        "id": "nzysqQutkHTS"
      },
      "execution_count": 16,
      "outputs": []
    },
    {
      "cell_type": "code",
      "source": [
        "# Training the CNN on training set and evaluating it on the test set\n",
        "\n",
        "Trained_model=cnn.fit(x = training_set ,validation_data = test_set ,epochs = 25)"
      ],
      "metadata": {
        "colab": {
          "base_uri": "https://localhost:8080/"
        },
        "id": "2yXusBEUkYEI",
        "outputId": "bdda2139-174b-4cce-9624-0d0f7556fe6d"
      },
      "execution_count": 17,
      "outputs": [
        {
          "output_type": "stream",
          "name": "stdout",
          "text": [
            "Epoch 1/25\n",
            "2/2 [==============================] - 18s 6s/step - loss: 0.7911 - accuracy: 0.5000 - val_loss: 0.6615 - val_accuracy: 0.5000\n",
            "Epoch 2/25\n",
            "2/2 [==============================] - 1s 1s/step - loss: 0.6578 - accuracy: 0.5200 - val_loss: 0.6496 - val_accuracy: 0.5000\n",
            "Epoch 3/25\n",
            "2/2 [==============================] - 1s 498ms/step - loss: 0.6028 - accuracy: 0.6200 - val_loss: 0.6517 - val_accuracy: 0.6000\n",
            "Epoch 4/25\n",
            "2/2 [==============================] - 1s 507ms/step - loss: 0.5316 - accuracy: 0.9200 - val_loss: 0.5807 - val_accuracy: 0.9000\n",
            "Epoch 5/25\n",
            "2/2 [==============================] - 1s 378ms/step - loss: 0.4395 - accuracy: 0.9400 - val_loss: 0.5448 - val_accuracy: 0.6000\n",
            "Epoch 6/25\n",
            "2/2 [==============================] - 1s 453ms/step - loss: 0.3703 - accuracy: 0.9200 - val_loss: 0.5689 - val_accuracy: 0.8000\n",
            "Epoch 7/25\n",
            "2/2 [==============================] - 1s 462ms/step - loss: 0.3073 - accuracy: 0.9200 - val_loss: 0.5475 - val_accuracy: 0.8000\n",
            "Epoch 8/25\n",
            "2/2 [==============================] - 1s 328ms/step - loss: 0.2201 - accuracy: 0.9400 - val_loss: 0.4802 - val_accuracy: 0.7000\n",
            "Epoch 9/25\n",
            "2/2 [==============================] - 1s 585ms/step - loss: 0.1806 - accuracy: 0.9600 - val_loss: 0.7775 - val_accuracy: 0.7000\n",
            "Epoch 10/25\n",
            "2/2 [==============================] - 1s 385ms/step - loss: 0.1856 - accuracy: 0.9400 - val_loss: 0.4935 - val_accuracy: 0.8000\n",
            "Epoch 11/25\n",
            "2/2 [==============================] - 1s 749ms/step - loss: 0.1464 - accuracy: 0.9400 - val_loss: 0.4792 - val_accuracy: 0.9000\n",
            "Epoch 12/25\n",
            "2/2 [==============================] - 1s 531ms/step - loss: 0.1115 - accuracy: 0.9600 - val_loss: 0.7103 - val_accuracy: 0.8000\n",
            "Epoch 13/25\n",
            "2/2 [==============================] - 1s 402ms/step - loss: 0.1476 - accuracy: 0.9600 - val_loss: 0.5918 - val_accuracy: 0.8000\n",
            "Epoch 14/25\n",
            "2/2 [==============================] - 1s 343ms/step - loss: 0.0909 - accuracy: 0.9600 - val_loss: 0.3414 - val_accuracy: 0.9000\n",
            "Epoch 15/25\n",
            "2/2 [==============================] - 1s 569ms/step - loss: 0.1464 - accuracy: 0.9600 - val_loss: 0.4401 - val_accuracy: 0.9000\n",
            "Epoch 16/25\n",
            "2/2 [==============================] - 1s 463ms/step - loss: 0.0479 - accuracy: 1.0000 - val_loss: 0.8340 - val_accuracy: 0.8000\n",
            "Epoch 17/25\n",
            "2/2 [==============================] - 1s 342ms/step - loss: 0.0977 - accuracy: 0.9400 - val_loss: 0.6542 - val_accuracy: 0.9000\n",
            "Epoch 18/25\n",
            "2/2 [==============================] - 1s 456ms/step - loss: 0.0957 - accuracy: 0.9800 - val_loss: 0.4019 - val_accuracy: 0.9000\n",
            "Epoch 19/25\n",
            "2/2 [==============================] - 1s 385ms/step - loss: 0.0860 - accuracy: 0.9800 - val_loss: 0.3298 - val_accuracy: 0.9000\n",
            "Epoch 20/25\n",
            "2/2 [==============================] - 1s 447ms/step - loss: 0.0842 - accuracy: 0.9800 - val_loss: 0.5720 - val_accuracy: 0.9000\n",
            "Epoch 21/25\n",
            "2/2 [==============================] - 1s 547ms/step - loss: 0.0667 - accuracy: 0.9600 - val_loss: 0.9675 - val_accuracy: 0.8000\n",
            "Epoch 22/25\n",
            "2/2 [==============================] - 1s 420ms/step - loss: 0.0780 - accuracy: 0.9600 - val_loss: 0.6505 - val_accuracy: 0.9000\n",
            "Epoch 23/25\n",
            "2/2 [==============================] - 1s 451ms/step - loss: 0.0143 - accuracy: 1.0000 - val_loss: 0.4397 - val_accuracy: 0.9000\n",
            "Epoch 24/25\n",
            "2/2 [==============================] - 1s 360ms/step - loss: 0.0152 - accuracy: 1.0000 - val_loss: 0.3996 - val_accuracy: 0.9000\n",
            "Epoch 25/25\n",
            "2/2 [==============================] - 1s 331ms/step - loss: 0.0615 - accuracy: 0.9800 - val_loss: 0.4402 - val_accuracy: 0.9000\n"
          ]
        }
      ]
    },
    {
      "cell_type": "code",
      "source": [
        "# Making a single Prediction\n",
        "\n",
        "import numpy as np\n",
        "from keras.preprocessing import image\n",
        "\n",
        "test_image = image.load_img('/content/drive/MyDrive/projects/datasets/pokemon/pika_pika/single_prediction/check_1.jpg',target_size = (64,64))\n",
        "test_image = image.img_to_array(test_image)\n",
        "test_image = np.expand_dims(test_image,axis = 0)\n",
        "\n",
        "result = cnn.predict(test_image)\n",
        "\n",
        "training_set.class_indices\n",
        "\n",
        "if result[0][0] == 1:\n",
        "  prediction = 'Pikachu'\n",
        "else:\n",
        "  prediction = 'Raichu'\n",
        "\n",
        "\n",
        "print(prediction)\n"
      ],
      "metadata": {
        "colab": {
          "base_uri": "https://localhost:8080/"
        },
        "id": "iG6W-z7lkxkI",
        "outputId": "fc7b024a-7b61-4bdc-ec62-d9636a9bf879"
      },
      "execution_count": 18,
      "outputs": [
        {
          "output_type": "stream",
          "name": "stdout",
          "text": [
            "1/1 [==============================] - 0s 205ms/step\n",
            "Pikachu\n"
          ]
        }
      ]
    }
  ]
}